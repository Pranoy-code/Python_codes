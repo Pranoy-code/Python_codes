{
 "cells": [
  {
   "cell_type": "code",
   "execution_count": 2,
   "metadata": {},
   "outputs": [],
   "source": [
    "import pandas as pd \n",
    "import numpy as np\n",
    "import zipfile\n",
    "import os\n",
    "import json\n",
    "from tqdm import tqdm"
   ]
  },
  {
   "cell_type": "code",
   "execution_count": 63,
   "metadata": {},
   "outputs": [],
   "source": [
    "def convert_over_to_df(over_data):\n",
    "    over_df = pd.DataFrame(over_data)\n",
    "    over_df['runs_by_bat']= over_df['runs'].apply(lambda x : x.get('batter'))\n",
    "    over_df['extra_runs']= over_df['runs'].apply(lambda x : x.get('extras'))\n",
    "    over_df['total']= over_df['runs'].apply(lambda x : x.get('total'))\n",
    "    over_df['delivery'] = np.arange(1, len(over_df)+1)\n",
    "    \n",
    "    if 'extras'  in over_df.columns:\n",
    "        over_df['extra_type'] = over_df['extras'].apply(lambda x: \"\".join(list(x.keys())) if type(x) == dict else np.nan)\n",
    "    else:\n",
    "        over_df['extra_type'] = np.nan\n",
    "    \n",
    "    if 'wickets'  in over_df.columns:\n",
    "        over_df['wicket_type'] = over_df['wickets'].apply(lambda x: x[0].get('kind') if type(x) == list else np.nan)\n",
    "        over_df['player_out'] = over_df['wickets'].apply(lambda x: x[0].get('player_out')  if type(x) == list else np.nan)\n",
    "        def get_fielder_name(x):\n",
    "            fielder_list = x[0].get('fielders') if isinstance(x, list) else []\n",
    "            if fielder_list:\n",
    "                # Extract names, skipping any fielder without a 'name' key\n",
    "                names = [fielder.get('name') for fielder in fielder_list if fielder.get('name') is not None]\n",
    "                return ';'.join(names) if names else np.nan\n",
    "            return np.nan\n",
    "        \n",
    "        over_df['fielder'] = over_df['wickets'].apply(get_fielder_name)\n",
    "        over_df.drop(columns=['wickets'], inplace=True)\n",
    "    else:\n",
    "        over_df['wicket_type'] = np.nan\n",
    "        over_df['player_out'] = np.nan\n",
    "        over_df['fielder'] = np.nan\n",
    "        \n",
    "    \n",
    "    # over_df.drop(columns=['runs'], inplace=True)\n",
    "    return over_df"
   ]
  },
  {
   "cell_type": "code",
   "execution_count": 64,
   "metadata": {},
   "outputs": [],
   "source": [
    "def complete_team_df(team_overs):\n",
    "    all_overs = []\n",
    "    for over in team_overs:\n",
    "        over_df = convert_over_to_df(over['deliveries'])\n",
    "        over_df['over'] = over['over']\n",
    "        all_overs.append(over_df)\n",
    "    return pd.concat(all_overs, ignore_index=True)"
   ]
  },
  {
   "cell_type": "code",
   "execution_count": 65,
   "metadata": {},
   "outputs": [],
   "source": [
    "def json_to_csv(match_format,match_file, output_file=False):\n",
    "    \n",
    "    with open(match_file, 'r') as f:\n",
    "        file = json.load(f)\n",
    "    \n",
    "    info = file['info']\n",
    "    match_info_data={}\n",
    "    match_info_data['match_id']=os.path.splitext(os.path.split(match_file)[-1])[0]\n",
    "    match_info_data['date']=info['dates'][0]\n",
    "\n",
    "    \n",
    "    if 'event' in info:\n",
    "        match_info_data['event']=info['event']['name']\n",
    "    else:\n",
    "        if match_format =='Test':\n",
    "            match_info_data['event']=f'{info['teams'][1]} tour of {info['teams'][0]} one-off test'\n",
    "        elif match_format =='ODI':\n",
    "            match_info_data['event']=f'{info['teams'][1]} tour of {info['teams'][0]} ODI Series'\n",
    "        elif match_format == 'T20':\n",
    "            match_info_data['event']=f'{info['teams'][1]} tour of {info['teams'][0]} T20I Series'\n",
    "        else:\n",
    "            pass\n",
    "\n",
    "    match_info_data[\"team_type\"]=info['team_type']\n",
    "    match_info_data['gender']=info['gender']\n",
    "    match_info_data['venue']=info['venue']\n",
    "    match_info_data['team_1']=info['teams'][0]\n",
    "    match_info_data['team_2']=info['teams'][1]\n",
    "    match_info_data['toss_winner']=info['toss']['winner']\n",
    "    match_info_data['toss_decision']=info['toss']['decision']\n",
    "    if 'winner' in info['outcome']:\n",
    "        match_info_data['match_winner']=info['outcome']['winner']\n",
    "    else:\n",
    "        match_info_data['match_winner']='No winners'\n",
    "    if 'player_of_match' in info:\n",
    "        match_info_data['MOM']=info['player_of_match'][0]\n",
    "    else:\n",
    "        match_info_data['MOM']='None'\n",
    "    if 'by' in info['outcome']:\n",
    "        by =info['outcome']['by']\n",
    "        if 'runs' in by:\n",
    "            match_info_data['victory_type'] = 'runs'\n",
    "            match_info_data['margin'] = info['outcome']['by']['runs']\n",
    "            if 'innings' in by: \n",
    "                match_info_data['by_innings'] = True\n",
    "            else:\n",
    "                match_info_data['by_innings'] = False\n",
    "        elif 'wickets' in by:\n",
    "            match_info_data['victory_type'] = 'wickets'\n",
    "            match_info_data['margin'] = info['outcome']['by']['wickets']\n",
    "            match_info_data['by_innings'] = False\n",
    "        else:\n",
    "            match_info_data['victory_type'] = None\n",
    "            match_info_data['margin'] = None\n",
    "\n",
    "    match_info = pd.DataFrame([match_info_data])\n",
    "\n",
    "    innings = file['innings']\n",
    "    length = len(innings)\n",
    "    \n",
    "    if length == 0:\n",
    "        print('No innings data found')\n",
    "        return [], info\n",
    "\n",
    "\n",
    "    all_innings_df = pd.DataFrame()\n",
    "    for idx, inning in enumerate(innings):\n",
    "        team = inning['overs']\n",
    "        df = complete_team_df(team)\n",
    "        df['match_id'] = os.path.splitext(os.path.split(match_file)[-1])[0]\n",
    "        df['extra_type'] = df['extra_type'].fillna('-')\n",
    "        df['wicket_type'] = df['wicket_type'].fillna(0)\n",
    "        df['batting_team'] = inning['team']\n",
    "        bowling_team = next(team for team in info['teams'] if team != inning['team'])\n",
    "        inning['bowling_team'] = bowling_team\n",
    "        df['inning']=idx+1\n",
    "        df['bowler_wicket'] = df['wicket_type'].apply(lambda x: 1 if x in ['stump', 'caught', 'bowled', 'caught and bowled', 'lbw'] else 0)\n",
    "        df['fielder_wicket'] = df['wicket_type'].apply(lambda x: 1 if x == 'runout' else 0)\n",
    "        df['ball_faced']=1\n",
    "        if 'review' in df.columns:\n",
    "            df.drop(columns=['review'],inplace=True)\n",
    "\n",
    "        all_innings_df=pd.concat([all_innings_df,df],ignore_index=True)\n",
    "        \n",
    "    \n",
    "    if output_file:\n",
    "            \n",
    "            file_path_1 = f\"{os.path.splitext(os.path.split(match_file)[-1])[0]}_ball_by_ball.csv\"\n",
    "            all_innings_df.to_csv(file_path_1,index=False)\n",
    "            \n",
    "            file_path_2 = f\"{os.path.splitext(os.path.split(match_file)[-1])[0]}_match_info.csv\"\n",
    "            match_info.to_csv(file_path_2,index=False)\n",
    "        \n",
    "        \n",
    "    \n",
    "    return all_innings_df, match_info"
   ]
  },
  {
   "cell_type": "code",
   "execution_count": 66,
   "metadata": {},
   "outputs": [],
   "source": [
    "def full_data_creator(match_type):\n",
    "    zip_path = r\"Datasets\\{}s_json.zip\".format(match_type)\n",
    "    ext_path = r\"Datasets\\extracted\\{}s_json\".format(match_type)\n",
    "    format={'test':'Test','odi':'ODI','t20':'T20','ipl':'IPL'}\n",
    "    if match_type==\"ipl\":\n",
    "        zip_path = r\"Datasets\\{}_json.zip\".format(match_type)\n",
    "        ext_path = r\"Datasets\\extracted\\{}_json\".format(match_type)\n",
    "\n",
    "    with zipfile.ZipFile(zip_path,\"r\") as zip_file:\n",
    "        zip_file.extractall(ext_path)\n",
    "    \n",
    "    json_files = [os.path.join(ext_path,f) for f in os.listdir(ext_path) if f.endswith('.json')]\n",
    "    \n",
    "    deliveries_data = pd.DataFrame()\n",
    "    matches_info = pd.DataFrame()\n",
    "\n",
    "    with tqdm(json_files, desc=\"Processing files\", unit=\"file\", total=len(json_files)) as pbar:\n",
    "        for i, file in enumerate(pbar):\n",
    "            # Update tqdm description dynamically with the current file\n",
    "            pbar.set_postfix_str(f\"Current file: {file.split('/')[-1]} ({i + 1} of {len(json_files)})\")\n",
    "            bal_by_ball_data, match_info = json_to_csv(format[match_type],file)\n",
    "            deliveries_data = pd.concat([deliveries_data, bal_by_ball_data], ignore_index=True)\n",
    "            matches_info = pd.concat([matches_info, match_info], ignore_index=True)\n",
    "    \n",
    "    matches_info.sort_values(['date'],inplace=True)\n",
    "    matches_info = matches_info[matches_info['gender']=='male']\n",
    "    matches_info.to_csv(r'Datasets\\{}\\{}_matches.csv'.format(format[match_type],match_type),index=False)\n",
    "    ids=matches_info['match_id'].to_list()\n",
    "    deliveries_data.sort_values(['match_id'],inplace=True)\n",
    "    deliveries_data = deliveries_data[deliveries_data['match_id'].isin(ids)]\n",
    "    deliveries_data.to_csv(r'Datasets\\{}\\{}_matches_deliveries.csv'.format(format[match_type],match_type),index=False)"
   ]
  },
  {
   "cell_type": "code",
   "execution_count": 67,
   "metadata": {},
   "outputs": [],
   "source": [
    "def batting_order_creator():\n",
    "    zip_path = r\"Datasets\\ipl_json.zip\"\n",
    "    ext_path = r\"Datasets\\extracted\\ipl_json\"\n",
    "\n",
    "    with zipfile.ZipFile(zip_path,\"r\") as zip_file:\n",
    "        zip_file.extractall(ext_path)\n",
    "    \n",
    "    json_files = [os.path.join(ext_path,f) for f in os.listdir(ext_path) if f.endswith('.json')]\n",
    "    batting_order = pd.DataFrame()\n",
    "\n",
    "    for file in json_files:\n",
    "        with open(file, 'r') as f:\n",
    "            cont = json.load(f)\n",
    "            print(cont['info'])\n",
    "    pass"
   ]
  },
  {
   "cell_type": "code",
   "execution_count": null,
   "metadata": {},
   "outputs": [],
   "source": [
    "batting_order_creator()"
   ]
  },
  {
   "cell_type": "code",
   "execution_count": 68,
   "metadata": {},
   "outputs": [],
   "source": [
    "# full_data_creator('ipl')"
   ]
  },
  {
   "cell_type": "code",
   "execution_count": 69,
   "metadata": {},
   "outputs": [],
   "source": [
    "# batting_order = []\n",
    "# for (match_id, inning), group in df.groupby(['match_id', 'inning']):\n",
    "#     # Initialize a list to keep track of batters in this match and inning\n",
    "#     batters_in_inning = []\n",
    "    \n",
    "#     # Iterate through the deliveries in the group\n",
    "#     for index, row in group.iterrows():\n",
    "#         # Add the batter to the list if they are not already in it\n",
    "#         if row['batter'] not in batters_in_inning:\n",
    "#             batters_in_inning.append(row['batter'])\n",
    "        \n",
    "#         # Check if the player is out\n",
    "#         if row['player_out'] is not None:\n",
    "#             # If the player is out, we need to add the next batter\n",
    "#             if len(batters_in_inning) < 11:  # Ensure we don't exceed 11 players\n",
    "#                 next_batter = row['non_striker']  # Assuming the non-striker comes in next\n",
    "#                 if next_batter not in batters_in_inning:\n",
    "#                     batters_in_inning.append(next_batter)\n",
    "\n",
    "#     # Assign batting positions\n",
    "#     for position, batter in enumerate(batters_in_inning, start=1):\n",
    "#         batting_order.append({'match_id': match_id, 'inning': inning, 'batter': batter, 'batting_position': position})"
   ]
  },
  {
   "cell_type": "code",
   "execution_count": 70,
   "metadata": {},
   "outputs": [],
   "source": [
    "# df_ipl = pd.read_csv(r'Datasets\\IPL\\ipl_matches_deliveries.csv')\n"
   ]
  },
  {
   "cell_type": "code",
   "execution_count": 71,
   "metadata": {},
   "outputs": [],
   "source": [
    "# df_bat_inning = df_ipl.groupby(by=['match_id', 'batter','inning']).agg(\n",
    "#     Team=('batting_team', 'first'),\n",
    "#     Opposition=('bowling_team', 'first'),\n",
    "#     Runs=('runs_by_bat', 'sum'),\n",
    "#     BF=('ball_faced', 'sum'),\n",
    "#     Fours=('runs_by_bat', lambda x: (x == 4).sum()),\n",
    "#     Sixes=('runs_by_bat', lambda x: (x == 6).sum()),\n",
    "#     NotOut=('player_out', lambda x: 1 if pd.isna(x.iloc[-1]) else 0),\n",
    "#     caught=('wicket_type',lambda x: (x == 'caught').count()),\n",
    "#     bowled=('wicket_type',lambda x: (x == 'bowled').count()),\n",
    "#     run_out=('wicket_type',lambda x: (x == 'run out').count()),\n",
    "#     lbw=('wicket_type',lambda x: (x == 'lbw').count()),\n",
    "#     retired_out=('wicket_type',lambda x: (x == 'retired out').count()),\n",
    "#     stumped=('wicket_type',lambda x: (x == 'stumped').count()),\n",
    "#     caught_and_bowled=('wicket_type',lambda x: (x == 'caught and bowled').count()),\n",
    "#     hit_wicket=('wicket_type',lambda x: (x == 'hit wicket').count()),\n",
    "#     obstructing_the_field=('wicket_type',lambda x: (x == 'obstructing the field').count())).reset_index().sort_values(by=['match_id','inning'],)"
   ]
  },
  {
   "cell_type": "code",
   "execution_count": 72,
   "metadata": {},
   "outputs": [],
   "source": [
    "# df_bowl_innings = df_ipl.groupby(['match_id', 'bowler','inning']).agg(\n",
    "#     Team=('bowling_team', 'first'),\n",
    "#     Opposition=('batting_team', 'first'),\n",
    "#     Ball_Count=('bowler_extra_type', lambda x: x.isna().sum()),  # Total balls bowled\n",
    "#     Runs_Conceded=('total', lambda x: x[df_ipl.loc[x.index, 'batsman_extra_type'].isna()].sum()),\n",
    "#     Wickets=('player_out', lambda x: x.notna().sum()),  \n",
    "#     Dot_Balls=('total', lambda x: (x == 0).sum()),\n",
    "#     Fours=('runs_by_bat', lambda x: (x == 4).sum()), \n",
    "#     Sixes=('runs_by_bat', lambda x: (x == 6).sum()), \n",
    "# ).reset_index().sort_values(by=['match_id','inning'])"
   ]
  },
  {
   "cell_type": "code",
   "execution_count": 73,
   "metadata": {},
   "outputs": [],
   "source": [
    "# df_bat_inning.to_csv(r'Datasets\\IPL\\ipl_bat_innings.csv',index=False)\n",
    "# df_bowl_innings.to_csv(r'Datasets\\IPL\\ipl_bowl_innings.csv',index=False)"
   ]
  },
  {
   "cell_type": "code",
   "execution_count": 74,
   "metadata": {},
   "outputs": [],
   "source": [
    "# df_bowl_innings.to_csv(r'Datasets\\IPL\\ipl_bowl_innings.csv',index=False)"
   ]
  },
  {
   "cell_type": "code",
   "execution_count": 75,
   "metadata": {},
   "outputs": [],
   "source": [
    "# formats=['odi','t20','ipl','test']\n",
    "\n",
    "# for match in formats:\n",
    "#     full_data_creator(match_type=match)"
   ]
  },
  {
   "cell_type": "code",
   "execution_count": 76,
   "metadata": {},
   "outputs": [],
   "source": [
    "# df_test_balls = pd.read_csv(r'Datasets\\Test\\test_matches_deliveries.csv')"
   ]
  },
  {
   "cell_type": "code",
   "execution_count": 77,
   "metadata": {},
   "outputs": [],
   "source": [
    "# df_test_balls.drop(columns=['extras'],inplace=True)"
   ]
  },
  {
   "cell_type": "code",
   "execution_count": 78,
   "metadata": {},
   "outputs": [],
   "source": [
    "# df_test_balls = df_test_balls.sort_values(by=['match_id','inning'],ascending=True)"
   ]
  },
  {
   "cell_type": "code",
   "execution_count": 79,
   "metadata": {},
   "outputs": [],
   "source": [
    "# df_test_balls"
   ]
  },
  {
   "cell_type": "code",
   "execution_count": 80,
   "metadata": {},
   "outputs": [],
   "source": [
    "# df_test_balls.to_csv(r'Datasets\\Test\\test_matches_deliveries.csv',index=False)"
   ]
  },
  {
   "cell_type": "code",
   "execution_count": 81,
   "metadata": {},
   "outputs": [],
   "source": [
    "# df_test_matches=pd.read_csv(r'Datasets\\Test\\test_matches.csv')"
   ]
  },
  {
   "cell_type": "code",
   "execution_count": 82,
   "metadata": {},
   "outputs": [],
   "source": [
    "# df_test_matches.drop(columns=['team_type','gender'],inplace=True)"
   ]
  },
  {
   "cell_type": "code",
   "execution_count": 83,
   "metadata": {},
   "outputs": [],
   "source": [
    "# df_test_matches['margin'] = df_test_matches['margin'].replace([np.inf, -np.inf], 0).fillna(0)\n",
    "\n",
    "# # Convert to integer\n",
    "# df_test_matches['margin'] = df_test_matches['margin'].astype(int)"
   ]
  },
  {
   "cell_type": "code",
   "execution_count": 84,
   "metadata": {},
   "outputs": [],
   "source": [
    "# df_test_matches"
   ]
  },
  {
   "cell_type": "code",
   "execution_count": 85,
   "metadata": {},
   "outputs": [],
   "source": [
    "# df_test_matches.to_csv(r'Datasets\\Test\\test_matches.csv')"
   ]
  },
  {
   "cell_type": "code",
   "execution_count": 86,
   "metadata": {},
   "outputs": [],
   "source": [
    "# df_test_matches_balls=pd.read_csv(r'Datasets\\Test\\test_matches_deliveries.csv')"
   ]
  },
  {
   "cell_type": "code",
   "execution_count": 87,
   "metadata": {},
   "outputs": [],
   "source": [
    "# df_test_matches_balls"
   ]
  },
  {
   "cell_type": "code",
   "execution_count": 88,
   "metadata": {},
   "outputs": [],
   "source": [
    "# df_odi_matches=pd.read_csv(r'Datasets\\ODI\\odi_matches.csv')"
   ]
  },
  {
   "cell_type": "code",
   "execution_count": 89,
   "metadata": {},
   "outputs": [],
   "source": [
    "# df_odi_matches"
   ]
  },
  {
   "cell_type": "code",
   "execution_count": 90,
   "metadata": {},
   "outputs": [],
   "source": [
    "# # Filter rows where the 'event' column starts with 'ICC' or contains 'World'\n",
    "# filtered_events = df_odi_matches[\n",
    "#     df_odi_matches['event'].str.startswith('ICC', na=False) |\n",
    "#     df_odi_matches['event'].str.contains('World', na=False)\n",
    "# ]\n",
    "\n",
    "# # Display the unique events\n",
    "# distinct_filtered_events = filtered_events['event'].unique()\n",
    "# print(distinct_filtered_events)\n"
   ]
  },
  {
   "cell_type": "code",
   "execution_count": 91,
   "metadata": {},
   "outputs": [],
   "source": [
    "# # Dictionary of replacements\n",
    "# replacement_dict = {\n",
    "#     \"ICC World Cup\": \"ICC Cricket World Cup\",\n",
    "#     \"World Cup\": \"ICC Cricket World Cup\",\n",
    "#     \"ICC World Cricket League Championship\":\"ICC Cricket World Cup Qualifier\",\n",
    "#     \"ICC World Cup Qualifiers\":\"ICC Cricket World Cup Qualifier\",\n",
    "#     \"ICC Cricket World Cup Qualifier (ICC Trophy)\":\"ICC Cricket World Cup Qualifier\",\n",
    "#     \"ICC Men's Cricket World Cup League 2\":\"ICC Cricket World Cup Qualifier\",\n",
    "#     \"ICC Men's Cricket World Cup Super League\":\"ICC Cricket World Cup Qualifier\",\n",
    "#     \"ICC Cricket World Cup Qualifier Play-off\":\"ICC Cricket World Cup Qualifier\"\n",
    "# }\n",
    "\n",
    "# # Replace values in the 'event' column\n",
    "# df_odi_matches['event'] = df_odi_matches['event'].replace(replacement_dict)\n"
   ]
  },
  {
   "cell_type": "code",
   "execution_count": 92,
   "metadata": {},
   "outputs": [],
   "source": [
    "# df_odi_matches['margin'] = df_odi_matches['margin'].replace([np.inf, -np.inf], 0).fillna(0)\n",
    "\n",
    "# # Convert to integer\n",
    "# df_odi_matches['margin'] = df_odi_matches['margin'].astype(int)"
   ]
  },
  {
   "cell_type": "code",
   "execution_count": 93,
   "metadata": {},
   "outputs": [],
   "source": [
    "# df_odi_matches.drop(columns=['team_type','gender','by_innings'],inplace=True)"
   ]
  },
  {
   "cell_type": "code",
   "execution_count": 94,
   "metadata": {},
   "outputs": [],
   "source": [
    "# df_odi_matches.to_csv(r'Datasets\\ODI\\odi_matches.csv',index=False)"
   ]
  },
  {
   "cell_type": "code",
   "execution_count": 95,
   "metadata": {},
   "outputs": [],
   "source": [
    "# df_t20_matches_ball = pd.read_csv(r'Datasets\\T20\\t20_matches_deliveries.csv')\n",
    "# df_t20_matches = pd.read_csv(r'Datasets\\T20\\t20_matches.csv')"
   ]
  },
  {
   "cell_type": "code",
   "execution_count": 96,
   "metadata": {},
   "outputs": [],
   "source": [
    "# df_t20_matches_ball=df_t20_matches_ball.sort_values(by=['match_id','inning','over'],ascending=True)"
   ]
  },
  {
   "cell_type": "code",
   "execution_count": 97,
   "metadata": {},
   "outputs": [],
   "source": [
    "# df_t20_matches_ball.drop(columns=['extras'],inplace=True)"
   ]
  },
  {
   "cell_type": "code",
   "execution_count": 98,
   "metadata": {},
   "outputs": [],
   "source": [
    "# df_t20_matches_ball"
   ]
  },
  {
   "cell_type": "code",
   "execution_count": 99,
   "metadata": {},
   "outputs": [],
   "source": [
    "# df_t20_matches_ball.to_csv(r'Datasets\\T20\\t20_matches_deliveries.csv',index=False)"
   ]
  },
  {
   "cell_type": "code",
   "execution_count": 100,
   "metadata": {},
   "outputs": [],
   "source": [
    "# df_t20_matches.drop(columns=['by_innings','team_type','gender'],inplace=True)"
   ]
  },
  {
   "cell_type": "code",
   "execution_count": 101,
   "metadata": {},
   "outputs": [],
   "source": [
    "# df_t20_matches"
   ]
  },
  {
   "cell_type": "code",
   "execution_count": 102,
   "metadata": {},
   "outputs": [],
   "source": [
    "# filtered_events = df_t20_matches[\n",
    "#     df_t20_matches['event'].str.startswith('ICC', na=False) |\n",
    "#     df_t20_matches['event'].str.contains('World', na=False)\n",
    "# ]\n",
    "\n",
    "# # Display the unique events\n",
    "# distinct_filtered_events = filtered_events['event'].unique()\n",
    "# print(distinct_filtered_events)"
   ]
  },
  {
   "cell_type": "code",
   "execution_count": 103,
   "metadata": {},
   "outputs": [],
   "source": [
    "# replacement_dict = {\n",
    "#     \"World T20\": \"ICC Men's T20 World Cup\",\n",
    "#     \"ICC World Twenty20\": \"ICC Men's T20 World Cup\",\n",
    "#     \"ICC Men's T20 World Cup\": \"ICC Men's T20 World Cup\",\n",
    "#     \"ICC World Twenty20 Qualifier\":\"ICC Men's T20 World Cup Qualifier\",\n",
    "#     \"ICC Menâ€™s T20 World Cup Qualifier A\":\"ICC Men's T20 World Cup Qualifier A\"\n",
    "# }\n",
    "\n",
    "# df_t20_matches['event'] = df_t20_matches['event'].replace(replacement_dict)\n"
   ]
  },
  {
   "cell_type": "code",
   "execution_count": 104,
   "metadata": {},
   "outputs": [],
   "source": [
    "# df_t20_matches['margin'] = df_t20_matches['margin'].replace([np.inf, -np.inf], 0).fillna(0)\n",
    "\n",
    "# # Convert to integer\n",
    "# df_t20_matches['margin'] = df_t20_matches['margin'].astype(int)"
   ]
  },
  {
   "cell_type": "code",
   "execution_count": 105,
   "metadata": {},
   "outputs": [],
   "source": [
    "# df_t20_matches.to_csv(r'Datasets\\T20\\t20_matches.csv')"
   ]
  },
  {
   "cell_type": "code",
   "execution_count": 106,
   "metadata": {},
   "outputs": [],
   "source": [
    "# df_ipl = pd.read_csv(r'Datasets\\IPL\\ipl_matches.csv')\n",
    "# df_ipl_balls = pd.read_csv(r'Datasets\\IPL\\ipl_matches_deliveries.csv')"
   ]
  },
  {
   "cell_type": "code",
   "execution_count": 107,
   "metadata": {},
   "outputs": [],
   "source": [
    "# df_ipl.drop(columns=['event','team_type','gender','by_innings'],inplace=True)"
   ]
  },
  {
   "cell_type": "code",
   "execution_count": 108,
   "metadata": {},
   "outputs": [],
   "source": [
    "# df_ipl['team_1'].unique()"
   ]
  },
  {
   "cell_type": "code",
   "execution_count": 109,
   "metadata": {},
   "outputs": [],
   "source": [
    "# replacement_dict = {\n",
    "#     \"Royal Challengers Bangalore\":\"Royal Challengers Bengaluru\",\n",
    "#     \"Kings XI Punjab\":\"Punjab Kings\",\n",
    "#     \"Delhi Daredevils\":\"Delhi Capitals\",\n",
    "#     \"Rising Pune Supergiant\":\"Rising Pune Supergiants\",\n",
    "#     \"Gujarat Lions\":\"Gujarat Titans\",\n",
    "#     \"Deccan Chargers\":\"Sunrisers Hyderabad\"\n",
    "# }\n",
    "# df_ipl['team_1'] = df_ipl['team_1'].replace(replacement_dict)\n",
    "# df_ipl['team_2'] = df_ipl['team_2'].replace(replacement_dict)\n",
    "# df_ipl['toss_winner']=df_ipl['toss_winner'].replace(replacement_dict)\n",
    "# df_ipl['match_winner']=\tdf_ipl['match_winner'].replace(replacement_dict)"
   ]
  },
  {
   "cell_type": "code",
   "execution_count": 110,
   "metadata": {},
   "outputs": [],
   "source": [
    "# df_ipl['venue'].unique()"
   ]
  },
  {
   "cell_type": "code",
   "execution_count": 111,
   "metadata": {},
   "outputs": [],
   "source": [
    "# stadium_mapping = {\n",
    "#     'M Chinnaswamy Stadium': 'M Chinnaswamy Stadium',\n",
    "#     'M.Chinnaswamy Stadium': 'M Chinnaswamy Stadium',\n",
    "#     'M Chinnaswamy Stadium, Bengaluru': 'M Chinnaswamy Stadium',\n",
    "#     'Punjab Cricket Association Stadium, Mohali': 'Punjab Cricket Association Stadium',\n",
    "#     'Punjab Cricket Association IS Bindra Stadium': 'Punjab Cricket Association Stadium',\n",
    "#     'Punjab Cricket Association IS Bindra Stadium, Mohali': 'Punjab Cricket Association Stadium',\n",
    "#     'Punjab Cricket Association IS Bindra Stadium, Mohali, Chandigarh': 'Punjab Cricket Association Stadium',\n",
    "#     'Feroz Shah Kotla': 'Arun Jaitley Stadium',\n",
    "#     'Arun Jaitley Stadium': 'Arun Jaitley Stadium',\n",
    "#     'Arun Jaitley Stadium, Delhi': 'Arun Jaitley Stadium',\n",
    "#     'Wankhede Stadium': 'Wankhede Stadium',\n",
    "#     'Wankhede Stadium, Mumbai': 'Wankhede Stadium',\n",
    "#     'Eden Gardens': 'Eden Gardens',\n",
    "#     'Eden Gardens, Kolkata': 'Eden Gardens',\n",
    "#     'Sawai Mansingh Stadium': 'Sawai Mansingh Stadium',\n",
    "#     'Sawai Mansingh Stadium, Jaipur': 'Sawai Mansingh Stadium',\n",
    "#     'Rajiv Gandhi International Stadium, Uppal': 'Rajiv Gandhi International Stadium',\n",
    "#     'Rajiv Gandhi International Stadium': 'Rajiv Gandhi International Stadium',\n",
    "#     'Rajiv Gandhi International Stadium, Uppal, Hyderabad': 'Rajiv Gandhi International Stadium',\n",
    "#     'MA Chidambaram Stadium, Chepauk': 'MA Chidambaram Stadium',\n",
    "#     'MA Chidambaram Stadium': 'MA Chidambaram Stadium',\n",
    "#     'MA Chidambaram Stadium, Chepauk, Chennai': 'MA Chidambaram Stadium',\n",
    "#     'Dr DY Patil Sports Academy': 'Dr DY Patil Sports Academy',\n",
    "#     'Dr DY Patil Sports Academy, Mumbai': 'Dr DY Patil Sports Academy',\n",
    "#     'Himachal Pradesh Cricket Association Stadium': 'Himachal Pradesh Cricket Association Stadium',\n",
    "#     'Himachal Pradesh Cricket Association Stadium, Dharamsala': 'Himachal Pradesh Cricket Association Stadium',\n",
    "#     'Maharashtra Cricket Association Stadium': 'Maharashtra Cricket Association Stadium',\n",
    "#     'Maharashtra Cricket Association Stadium, Pune': 'Maharashtra Cricket Association Stadium',\n",
    "#     'Dr. Y.S. Rajasekhara Reddy ACA-VDCA Cricket Stadium': 'Dr. Y.S. Rajasekhara Reddy ACA-VDCA Cricket Stadium',\n",
    "#     'Dr. Y.S. Rajasekhara Reddy ACA-VDCA Cricket Stadium, Visakhapatnam': 'Dr. Y.S. Rajasekhara Reddy ACA-VDCA Cricket Stadium',\n",
    "#     'Sardar Patel Stadium, Motera': 'Narendra Modi Stadium',\n",
    "#     'Narendra Modi Stadium, Ahmedabad': 'Narendra Modi Stadium',\n",
    "#     'Barsapara Cricket Stadium, Guwahati': 'Barsapara Cricket Stadium',\n",
    "#     'Bharat Ratna Shri Atal Bihari Vajpayee Ekana Cricket Stadium, Lucknow': 'Ekana Cricket Stadium',\n",
    "#     'Maharaja Yadavindra Singh International Cricket Stadium, Mullanpur': 'Mullanpur Cricket Stadium',\n",
    "# }\n"
   ]
  },
  {
   "cell_type": "code",
   "execution_count": 112,
   "metadata": {},
   "outputs": [],
   "source": [
    "# df_ipl['venue'] = df_ipl['venue'].replace(stadium_mapping)"
   ]
  },
  {
   "cell_type": "code",
   "execution_count": 113,
   "metadata": {},
   "outputs": [],
   "source": [
    "# df_ipl['margin'] = df_ipl['margin'].replace([np.inf, -np.inf], 0).fillna(0)\n",
    "\n",
    "# # Convert to integer\n",
    "# df_ipl['margin'] = df_ipl['margin'].astype(int)"
   ]
  },
  {
   "cell_type": "code",
   "execution_count": 114,
   "metadata": {},
   "outputs": [],
   "source": [
    "# df_ipl"
   ]
  },
  {
   "cell_type": "code",
   "execution_count": 115,
   "metadata": {},
   "outputs": [],
   "source": [
    "# df_ipl['date'] = pd.to_datetime(df_ipl['date'])"
   ]
  },
  {
   "cell_type": "code",
   "execution_count": 116,
   "metadata": {},
   "outputs": [],
   "source": [
    "# df_ipl['season']=df_ipl['date'].dt.year"
   ]
  },
  {
   "cell_type": "code",
   "execution_count": 117,
   "metadata": {},
   "outputs": [],
   "source": [
    "# df_ipl_balls=df_ipl_balls.sort_values(by=['match_id','inning','over','delivery'])"
   ]
  },
  {
   "cell_type": "code",
   "execution_count": 118,
   "metadata": {},
   "outputs": [],
   "source": [
    "# df_ipl_balls.drop(columns=['extras'],inplace=True)"
   ]
  },
  {
   "cell_type": "code",
   "execution_count": 119,
   "metadata": {},
   "outputs": [],
   "source": [
    "# replacement_dict = {\n",
    "#     \"Royal Challengers Bangalore\":\"Royal Challengers Bengaluru\",\n",
    "#     \"Kings XI Punjab\":\"Punjab Kings\",\n",
    "#     \"Delhi Daredevils\":\"Delhi Capitals\",\n",
    "#     \"Rising Pune Supergiant\":\"Rising Pune Supergiants\",\n",
    "#     \"Gujarat Lions\":\"Gujarat Titans\",\n",
    "#     \"Deccan Chargers\":\"Sunrisers Hyderabad\"\n",
    "# }\n",
    "\n",
    "# df_ipl_balls['batting_team']=df_ipl_balls['batting_team'].replace(replacement_dict)"
   ]
  },
  {
   "cell_type": "code",
   "execution_count": 120,
   "metadata": {},
   "outputs": [],
   "source": [
    "# df_ipl_balls.columns"
   ]
  },
  {
   "cell_type": "code",
   "execution_count": 121,
   "metadata": {},
   "outputs": [],
   "source": [
    "# df_ipl.to_csv(r'Datasets\\IPL\\ipl_matches.csv',index=False)\n",
    "# df_ipl_balls.to_csv(r'Datasets\\IPL\\ipl_matches_deliveries.csv',index=False)"
   ]
  },
  {
   "cell_type": "markdown",
   "metadata": {},
   "source": [
    "#### Converting IPL ball by ball data to innings data"
   ]
  },
  {
   "cell_type": "code",
   "execution_count": 122,
   "metadata": {},
   "outputs": [],
   "source": [
    "# import pandas as pd"
   ]
  },
  {
   "cell_type": "code",
   "execution_count": 123,
   "metadata": {},
   "outputs": [],
   "source": [
    "# df_ipl=pd.read_csv(r'Datasets\\IPL\\ipl_matches.csv')\n",
    "# df_ipl_balls=pd.read_csv(r'Datasets\\IPL\\ipl_matches_deliveries.csv')"
   ]
  },
  {
   "cell_type": "code",
   "execution_count": 124,
   "metadata": {},
   "outputs": [],
   "source": [
    "# df_ipl_balls.columns"
   ]
  },
  {
   "cell_type": "code",
   "execution_count": 125,
   "metadata": {},
   "outputs": [],
   "source": [
    "# df_ipl_balls.loc[df_ipl_balls['extra_type'].isin(['wides', 'penaltywides','byesnoballs','legbyesnoballs','noballs']), 'ball_faced'] = 0"
   ]
  },
  {
   "cell_type": "code",
   "execution_count": 126,
   "metadata": {},
   "outputs": [],
   "source": [
    "# df_ipl_balls.loc[df_ipl_balls['extra_type'] == 'byes', 'batsman_extra_type'] = 'byes'\n",
    "# df_ipl_balls.loc[df_ipl_balls['extra_type'] == 'legbyes', 'batsman_extra_type'] = 'legbyes'\n",
    "# df_ipl_balls.loc[df_ipl_balls['extra_type'] == 'penalty', 'batsman_extra_type'] = 'penalty'\n",
    "\n",
    "# df_ipl_balls.loc[df_ipl_balls['extra_type'].isin(['byesnoballs', 'legbyesnoballs']), 'batsman_extra_type'] = 'byes'\n",
    "# df_ipl_balls.loc[df_ipl_balls['extra_type'].isin(['byesnoballs', 'legbyesnoballs']), 'bowler_extra_type'] = 'noballs'\n",
    "\n",
    "# df_ipl_balls.loc[df_ipl_balls['extra_type'] == 'noballs', 'bowler_extra_type'] = 'noballs'\n",
    "# df_ipl_balls.loc[df_ipl_balls['extra_type'] == 'wides', 'bowler_extra_type'] = 'wides'\n",
    "\n",
    "# df_ipl_balls.loc[df_ipl_balls['extra_type'] == 'penaltywides', 'bowler_extra_type'] = 'wides'\n",
    "# df_ipl_balls.loc[df_ipl_balls['extra_type'] == 'penaltywides', 'batsman_extra_type'] = 'penalty'\n"
   ]
  },
  {
   "cell_type": "code",
   "execution_count": 127,
   "metadata": {},
   "outputs": [],
   "source": [
    "# df_ipl_balls.drop(columns=['extra_type'],inplace=True)"
   ]
  },
  {
   "cell_type": "code",
   "execution_count": 128,
   "metadata": {},
   "outputs": [],
   "source": [
    "# df_ipl_balls"
   ]
  },
  {
   "cell_type": "code",
   "execution_count": 129,
   "metadata": {},
   "outputs": [],
   "source": [
    "# df_ipl_balls.to_csv(r'Datasets\\IPL\\ipl_matches_deliveries.csv',index=False)"
   ]
  },
  {
   "cell_type": "code",
   "execution_count": 130,
   "metadata": {},
   "outputs": [],
   "source": [
    "# df_all = pd.merge(df_ipl,df_ipl_balls,how='outer',on='match_id')"
   ]
  },
  {
   "cell_type": "code",
   "execution_count": 131,
   "metadata": {},
   "outputs": [],
   "source": [
    "# df_all.columns"
   ]
  },
  {
   "cell_type": "code",
   "execution_count": 132,
   "metadata": {},
   "outputs": [],
   "source": [
    "# df_all=df_all[['match_id','date','venue','team_1', 'team_2','batter', 'bowler', 'non_striker', 'runs_by_bat','extra_runs', 'total', 'delivery', 'extra_type', 'wicket_type','player_out', 'fielder', 'over', 'batting_team', 'inning',\n",
    "#        'bowler_wicket', 'fielder_wicket', 'ball_faced']]"
   ]
  },
  {
   "cell_type": "code",
   "execution_count": 133,
   "metadata": {},
   "outputs": [],
   "source": [
    "# df_all['bowling_team']=df_all.apply(lambda row: row['team_2'] if row['batting_team']==row['team_1'] else row['team_1'],axis=1)"
   ]
  },
  {
   "cell_type": "code",
   "execution_count": 134,
   "metadata": {},
   "outputs": [],
   "source": [
    "# df_all.columns"
   ]
  },
  {
   "cell_type": "code",
   "execution_count": 135,
   "metadata": {},
   "outputs": [],
   "source": [
    "# df_all=df_all[['match_id','date','venue','batter', 'bowler', 'non_striker','runs_by_bat', 'extra_runs', 'total', 'delivery', 'extra_type','wicket_type', 'player_out', 'fielder', 'over', 'batting_team','bowling_team','inning', 'bowler_wicket', 'fielder_wicket', 'ball_faced']]"
   ]
  },
  {
   "cell_type": "code",
   "execution_count": 136,
   "metadata": {},
   "outputs": [],
   "source": [
    "# df_all"
   ]
  },
  {
   "cell_type": "code",
   "execution_count": 137,
   "metadata": {},
   "outputs": [],
   "source": [
    "# df_all.to_csv(r'Datasets\\IPL\\ipl_matches_deliveries.csv',index=False)"
   ]
  },
  {
   "cell_type": "code",
   "execution_count": null,
   "metadata": {},
   "outputs": [],
   "source": []
  }
 ],
 "metadata": {
  "kernelspec": {
   "display_name": "Python 3",
   "language": "python",
   "name": "python3"
  },
  "language_info": {
   "codemirror_mode": {
    "name": "ipython",
    "version": 3
   },
   "file_extension": ".py",
   "mimetype": "text/x-python",
   "name": "python",
   "nbconvert_exporter": "python",
   "pygments_lexer": "ipython3",
   "version": "3.12.7"
  }
 },
 "nbformat": 4,
 "nbformat_minor": 2
}
